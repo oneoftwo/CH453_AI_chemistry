{
  "cells": [
    {
      "cell_type": "markdown",
      "metadata": {
        "id": "view-in-github",
        "colab_type": "text"
      },
      "source": [
        "<a href=\"https://colab.research.google.com/github/oneoftwo/CH453_AI_chemistry/blob/main/practice_0_problem.ipynb\" target=\"_parent\"><img src=\"https://colab.research.google.com/assets/colab-badge.svg\" alt=\"Open In Colab\"/></a>"
      ]
    },
    {
      "cell_type": "markdown",
      "source": [
        "# **CH485 practice 0**\n",
        "\n",
        "This is the initial assessment for CH485 AI Chemistry. This test aims to measure your foundational Python abilities, crucial for the entire course. It's assumed that students are familiar with the topics presented in this assessment during class discussions. Please refrain from using AI-based coding assistance programs, such as ChatGPT and Copilot, while taking this test. Although this assessment won't affect your final grade, if you find some questions difficult, we recommend revisiting the related contents on your own before the first practice session."
      ],
      "metadata": {
        "id": "todatqRSSvnP"
      }
    },
    {
      "cell_type": "markdown",
      "source": [
        "# **Basic Python Algorithm**\n",
        "\n",
        "1. Implement `bubble_sort` and `insertion_sort`. Each functions will get input with a list of numbers to sort, returning the same length of list with increasing order.\n",
        "    \n",
        "    Bubble sort, sometimes referred to as sinking sort, is a simple sorting algorithm that\n",
        "    repeatedly steps through the list, compares adjacent elements and swaps them if they\n",
        "    are in the wrong order. The pass through the list is repeated until the list is sorted. The\n",
        "    algorithm, which is a comparison sort, is named for the way smaller or larger elements\n",
        "    \"bubble\" to the top of the list.\n",
        "    \n",
        "    Insertion sort iterates, consuming one input element each repetition, and grows a sorted\n",
        "    output list. At each iteration, insertion sort removes one element from the input data,\n",
        "     finds the location it belongs within the sorted list, and inserts it there. It repeats until\n",
        "    no input elements remain.\n",
        "    \n",
        "2. Implement function `find_primes_less_than`, and by using it, implement `prime_factorization`.\n",
        "3. Implement function `n_base_repr`, using `while` loop. In case of the base larger than 10, each numbers will be written from A to Z. For instance, 27 will be written in \"1B\" in base 16."
      ],
      "metadata": {
        "id": "eChSvCRlPI0F"
      }
    },
    {
      "cell_type": "code",
      "source": [
        "def bubble_sort(lst):\n",
        "    \"\"\"\n",
        "    Sorts a list using the bubble sort algorithm.\n",
        "\n",
        "    Input:\n",
        "        lst (list): List of numbers to sort.\n",
        "\n",
        "    Return:\n",
        "        List of numbers sorted in ascending order.\n",
        "    \"\"\"\n",
        "    pass\n",
        "    # Implement here ========================================================= #\n",
        "\n",
        "    # ======================================================================== #\n",
        "\n",
        "\n",
        "def insertion_sort(lst):\n",
        "    \"\"\"\n",
        "    Sorts a list using the insertion sort algorithm.\n",
        "\n",
        "    Input:\n",
        "        lst (list): List of numbers to sort.\n",
        "\n",
        "    Return:\n",
        "        List of numbers sorted in ascending order.\n",
        "    \"\"\"\n",
        "    pass\n",
        "    # Implement here ========================================================= #\n",
        "\n",
        "    # ======================================================================== #\n",
        "\n",
        "\n",
        "def find_primes(n):\n",
        "    \"\"\"\n",
        "    Find primes less than or equal to n using the Sieve of Eratosthenes.\n",
        "\n",
        "    Input:\n",
        "        n (int): a number up to which to find prime numbers\n",
        "\n",
        "    Output:\n",
        "        A set with the prime numbers less than or equal to n\n",
        "    \"\"\"\n",
        "    pass\n",
        "    # Implement here ========================================================= #\n",
        "\n",
        "    # ======================================================================== #\n",
        "\n",
        "\n",
        "def n_base_repr(n, base_val=2):\n",
        "    \"\"\"\n",
        "    Generates a base representation of a given number.\n",
        "\n",
        "    Input:\n",
        "        n (int): a number\n",
        "        base_val (int): the base\n",
        "\n",
        "    Output:\n",
        "        A string of the base_val representation of n.\n",
        "    \"\"\"\n",
        "    pass\n",
        "    # Implement here ========================================================= #\n",
        "\n",
        "    # ======================================================================== #\n"
      ],
      "metadata": {
        "id": "mgU2ceGWTkfL"
      },
      "execution_count": null,
      "outputs": []
    },
    {
      "cell_type": "code",
      "source": [
        "# check (do not change)\n",
        "to_sort = [-1, 1, 2, 3, 123, 9e3, -9.9 , 10.2]\n",
        "done_sort = [-9.9, -1, 1, 2, 3, 10.2, 123, 9000.0]\n",
        "primes_7 = {2, 3, 5, 7}\n",
        "primes_2 = {2}\n",
        "primes_18 = {2, 3, 5, 7, 11, 13, 17}\n",
        "n_base_repr_19_2 = \"10011\"\n",
        "n_base_repr_1203_14 = \"61D\"\n",
        "n_base_repr_123_6 = \"323\"\n",
        "assert done_sort == bubble_sort(to_sort), \"bubble_sort\"\n",
        "assert done_sort == insertion_sort(done_sort), \"insertion_sort\"\n",
        "assert primes_2 == find_primes(2)\n",
        "assert primes_7 == find_primes(7)\n",
        "assert primes_18 == find_primes(18)\n",
        "assert n_base_repr_19_2 == n_base_repr(19, 2)\n",
        "assert n_base_repr_1203_14 == n_base_repr(1203, 14)\n",
        "assert n_base_repr_123_6 == n_base_repr(123, 6)\n",
        "print(\"nice!\")"
      ],
      "metadata": {
        "colab": {
          "base_uri": "https://localhost:8080/"
        },
        "id": "-3LryNpIRSmj",
        "outputId": "2630022a-28c0-48d5-f07b-bc18daa18295"
      },
      "execution_count": null,
      "outputs": [
        {
          "output_type": "stream",
          "name": "stdout",
          "text": [
            "nice!\n"
          ]
        }
      ]
    },
    {
      "cell_type": "markdown",
      "source": [
        "# **Processing String**\n"
      ],
      "metadata": {
        "id": "mEQom_iFPK0v"
      }
    },
    {
      "cell_type": "markdown",
      "source": [
        "1. Implement the funtion `get_all_chars`. This function recieves a string and returns a list of characters included in the string. For instance, for string \"Hello\", the function should return [\"H\", \"e\", \"l\", \"o\"].\n",
        "2. Implement `string_statistics`. This function finds all the characters in the given string and returns a dictionary that has key value of each character and item as the number of character in the string. For instalce with a input string \"Hello\", the function should return {\"H\":1, \"l\":2, \"e\":1, \"o\":1}.\n",
        "3. In deep learning, it's often necessary to encode strings into numerical sequences. Implement `encode_sequence` and `decode_sequence` that encodes and decodes the string to numerical sequence and vice versa. For instance, for a given sequence \"Hello\", when encoded [0, 1, 2, 2, 3] will be obtained. You may use the function `get_all_chars`.\n",
        "\n",
        "\n"
      ],
      "metadata": {
        "id": "RVtetVL63VZw"
      }
    },
    {
      "cell_type": "code",
      "source": [
        "sample_string = \"Extended-connectivity fingerprints (ECFPs) are a novel class \\\n",
        "of topological fingerprints for molecular characterization. Historically, \\\n",
        "topological fingerprints were developed for substructure and similarity \\\n",
        "searching. ECFPs were developed specifically for structure−activity modeling.\""
      ],
      "metadata": {
        "id": "jKDD3VyoQmmg"
      },
      "execution_count": null,
      "outputs": []
    },
    {
      "cell_type": "code",
      "source": [
        "def get_all_chars(s):\n",
        "    pass\n",
        "    # Implement here ========================================================= #\n",
        "\n",
        "    # ======================================================================== #\n",
        "\n",
        "\n",
        "def string_statistics(s):\n",
        "    \"\"\"\n",
        "    Generates statistics from a given string.\n",
        "\n",
        "    Input:\n",
        "        s (str): Input string\n",
        "\n",
        "    Output:\n",
        "        A dictionary containing statistics about the string. (include blank)\n",
        "    \"\"\"\n",
        "    pass\n",
        "    # Implement here ========================================================= #\n",
        "\n",
        "    # ======================================================================== #\n",
        "\n",
        "\n",
        "def encode_sequence(s, chars):\n",
        "    \"\"\"\n",
        "    Input:\n",
        "        s (str): Input string\n",
        "        chars (list): A list of characters, each charcters will be mapped to\n",
        "            the its index in chars\n",
        "    Output:\n",
        "        a list of integers encoded\n",
        "    \"\"\"\n",
        "    pass\n",
        "    # Implement here ========================================================= #\n",
        "\n",
        "    # ======================================================================== #\n",
        "\n",
        "\n",
        "def decode_sequence(seq, chars):\n",
        "    \"\"\"\n",
        "    Input:\n",
        "        seq (list): A list of integers\n",
        "        chars (list): A list of characters\n",
        "    Output:\n",
        "        string\n",
        "    \"\"\"\n",
        "    pass\n",
        "    # Implement here ========================================================= #\n",
        "\n",
        "    # ======================================================================== #\n",
        "\n",
        "\n",
        "# sample usage of encode_sequence and decode_sequence\n",
        "chars = get_all_chars(sample_string)\n",
        "seq = encode_sequence(sample_string, chars)\n",
        "regen_sample_string = decode_sequence(seq, chars)"
      ],
      "metadata": {
        "id": "dF2aefOEWRiw"
      },
      "execution_count": null,
      "outputs": []
    },
    {
      "cell_type": "code",
      "source": [
        "# check yourself(do not change)\n",
        "chars = ['m', 'p', ')', 'x', '.', 'r', 'C', 'l', 'd', 'u', 'E', 'c', 'n', 't', \\\n",
        "         'w', ' ', 'g', 'b', '−', 'h', 'a', 'f', '-', 'z', 'H', 'e', 'v', 's', \\\n",
        "         'P', 'y', 'o', 'i', 'F', ',', '(']\n",
        "string_stats = {'x': 1, 'E': 3, 't': 18, 'e': 25, 'n': 14, 'd': 8, '-': 1, \\\n",
        "                'c': 15, 'o': 18, 'i': 23, 'v': 5, 'y': 5, ' ': 29, 'f': 8, \\\n",
        "                'g': 7, 'r': 22, 'p': 8, 's': 14, '(': 1, 'C': 2, 'F': 2, \\\n",
        "                'P': 2, ')': 1, 'a': 15, 'l': 16, 'm': 3, 'u': 6, 'h': 2, \\\n",
        "                'z': 1, '.': 3, 'H': 1, ',': 1, 'w': 2, 'b': 1, '−': 1}\n",
        "assert set(chars) == set(get_all_chars(sample_string))\n",
        "assert string_stats == string_statistics(sample_string)\n",
        "chars = get_all_chars(sample_string)\n",
        "seq = encode_sequence(sample_string, chars)\n",
        "regen_sample_string = decode_sequence(seq, chars)\n",
        "assert regen_sample_string == sample_string\n",
        "print(\"nice!\")"
      ],
      "metadata": {
        "id": "KrEq4cqAYtpm",
        "colab": {
          "base_uri": "https://localhost:8080/"
        },
        "outputId": "7a23196a-fdc9-484b-d805-4674c7796119"
      },
      "execution_count": null,
      "outputs": [
        {
          "output_type": "stream",
          "name": "stdout",
          "text": [
            "nice!\n"
          ]
        }
      ]
    },
    {
      "cell_type": "markdown",
      "source": [
        "# **Class**\n",
        "1. Implement the `__init__`, `add_taken_course`, and `get_average_grade`\n",
        "method in the `Student` class.\n",
        "2. Implement the function `check_common_course` that receives two `Student` object and returns the list of the courses taken in common.\n",
        "3. Implement `get_best_student_name` that receives the list of students and returns the student's name which has the highest average grade.\n",
        "4. By inheriting the `Student` class, make a `GradStudent` class. The `GradStudent` class receives the same parameters as `Student` and in addition receives `reaserch_field` parameter. Use a `super` method.\n"
      ],
      "metadata": {
        "id": "ojQ010TtghRO"
      }
    },
    {
      "cell_type": "code",
      "source": [
        "class Student:\n",
        "    def __init__(self, student_name, id, age):\n",
        "        pass\n",
        "        \"\"\"\n",
        "        inputs:\n",
        "            student_name (str): the name of the student\n",
        "            id (int): the 8 digit student ID (ex. 20230001)\n",
        "            age (int): the age of the student\n",
        "        outputs:\n",
        "\n",
        "        \"\"\"\n",
        "        # Implement here ===================================================== #\n",
        "\n",
        "        # ==================================================================== #\n",
        "\n",
        "    def add_taken_course(self, new_courses, new_course_grades):\n",
        "        pass\n",
        "        \"\"\"\n",
        "        inputs:\n",
        "            new_courses (list): a list of string with the courses to add\n",
        "                (ex. [\"CS101\", \"CH101\", \"MAS101\"])\n",
        "            new_course_grades (list): a list of grades corresponding to\n",
        "                new_courses (ex. [3.3, 3.0, 4.3])\n",
        "        \"\"\"\n",
        "        # Implement here ===================================================== #\n",
        "\n",
        "        # ==================================================================== #\n",
        "\n",
        "    def get_average_grade(self):\n",
        "        \"\"\"\n",
        "        returns the average grade (float) of the student\n",
        "        \"\"\"\n",
        "        pass\n",
        "        # Implement here ===================================================== #\n",
        "\n",
        "        # ==================================================================== #\n",
        "\n",
        "\n",
        "def check_common_course(student_1, student_2):\n",
        "    \"\"\"\n",
        "    inputs:\n",
        "    outpus: a list of common course taken by two students\n",
        "    \"\"\"\n",
        "    pass\n",
        "    # Implement here ========================================================= #\n",
        "\n",
        "    # ======================================================================== #\n",
        "\n",
        "\n",
        "def get_best_student_name(student_list):\n",
        "    \"\"\"\n",
        "    inputs:\n",
        "        student_list (lst): a list of Student object\n",
        "    outputs (str): the name of the student with the highest average grade\n",
        "    \"\"\"\n",
        "    pass\n",
        "    # Implement here ========================================================= #\n",
        "\n",
        "    # ======================================================================== #\n",
        "\n",
        "\n",
        "class GradStudent(Student):\n",
        "    def __init__(self, student_name, id, age, reaserch_field):\n",
        "        pass\n",
        "        # Implement here ===================================================== #\n",
        "\n",
        "        # ==================================================================== #\n",
        "\n",
        "    def print_average_grade(self):\n",
        "        pass\n",
        "        # Implement here ===================================================== #\n",
        "\n",
        "        # ==================================================================== #\n"
      ],
      "metadata": {
        "id": "Y265WDAbY79V"
      },
      "execution_count": null,
      "outputs": []
    },
    {
      "cell_type": "code",
      "source": [
        "# check yourself\n",
        "student_1 = Student(\"Lee Joongwon\", 20230001, 24)\n",
        "student_1.add_taken_course([\"CH101\", \"MAS101\", \"CS101\"], [4.3, 3.3, 3.7])\n",
        "student_2 = Student(\"Kim Junhyung\", 20230002, 25)\n",
        "student_2.add_taken_course([\"CH101\", \"MAS101\", \"CH102\"], [3.3, 4.0, 4.0])\n",
        "student_3 = Student(\"Zhung Wonho\", 20230003, 25)\n",
        "student_3.add_taken_course([\"CH101\", \"MAS102\", \"CH102\", \"BS101\"], [4.0, 4.0, 3.7, 4.3])\n",
        "print(check_common_course(student_1, student_2))\n",
        "print(get_best_student_name([student_1, student_2, student_3]))\n",
        "grad_student_1 = GradStudent(\"Lee Joongwon\", 20230001, 24, \"CH\")\n",
        "grad_student_1.add_taken_course([\"CH401\", \"CH375\", \"CH601\"], [4.3, 4.3, 3.7])\n",
        "grad_student_1.print_average_grade()"
      ],
      "metadata": {
        "id": "NG3jWLEuhlak",
        "colab": {
          "base_uri": "https://localhost:8080/"
        },
        "outputId": "a74df0aa-00de-4bcc-da9e-415d15896146"
      },
      "execution_count": null,
      "outputs": [
        {
          "output_type": "stream",
          "name": "stdout",
          "text": [
            "['MAS101', 'CH101']\n",
            "Zhung Wonho\n",
            "4.1000000000000005\n"
          ]
        }
      ]
    },
    {
      "cell_type": "markdown",
      "source": [
        "# **Using Library**\n",
        "Here, you will estimate the value of pi using MC (monte carlo) simulation. First, sample number of points within [0,1] to [0, 1] square, and save the coordintes. Then, count the number of points within a semi-half circle with radius 1, centered at (0,0). Then, use the probability concept to estimate the value of pi, based on the result (The number of points that are in the circle divided by the number of all points will be the estimation of pi/4). Use `numpy` package to calculate and randomly select points. Do not use `for` or `while` loop solving this problem.\n",
        "\n",
        "\n",
        "\n",
        "\n",
        "![image.png](data:image/png;base64,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)"
      ],
      "metadata": {
        "id": "sQPXkjD6HV7T"
      }
    },
    {
      "cell_type": "code",
      "source": [
        "import numpy as np\n",
        "\n",
        "\n",
        "def estimate_pi(n_sample):\n",
        "    pass\n",
        "    # Implement here ========================================================= #\n",
        "\n",
        "    # ======================================================================== #\n"
      ],
      "metadata": {
        "id": "8J7Xue6JHZrV"
      },
      "execution_count": null,
      "outputs": []
    },
    {
      "cell_type": "code",
      "source": [
        "# check yourself (check if the printed value is near pi(3.14))\n",
        "print(estimate_pi(100000))"
      ],
      "metadata": {
        "colab": {
          "base_uri": "https://localhost:8080/"
        },
        "id": "FQSYNjALHVXf",
        "outputId": "357d29e2-0d84-4433-e937-0c8e0bee6520"
      },
      "execution_count": null,
      "outputs": [
        {
          "output_type": "stream",
          "name": "stdout",
          "text": [
            "3.14164\n"
          ]
        }
      ]
    }
  ],
  "metadata": {
    "colab": {
      "toc_visible": true,
      "provenance": [],
      "include_colab_link": true
    },
    "kernelspec": {
      "display_name": "Python 3",
      "name": "python3"
    }
  },
  "nbformat": 4,
  "nbformat_minor": 0
}